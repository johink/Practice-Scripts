{
 "cells": [
  {
   "cell_type": "code",
   "execution_count": 43,
   "metadata": {
    "collapsed": true
   },
   "outputs": [],
   "source": [
    "import pymc3 as pm\n",
    "import theano as t\n",
    "import numpy as np\n",
    "import matplotlib.pyplot as plt\n",
    "plt.style.use('ggplot')\n",
    "%matplotlib inline"
   ]
  },
  {
   "cell_type": "code",
   "execution_count": 2,
   "metadata": {},
   "outputs": [
    {
     "data": {
      "text/plain": [
       "200"
      ]
     },
     "execution_count": 2,
     "metadata": {},
     "output_type": "execute_result"
    }
   ],
   "source": [
    "import requests\n",
    "response = requests.get(\"https://www.mlssoccer.com/results\")\n",
    "response.status_code"
   ]
  },
  {
   "cell_type": "code",
   "execution_count": 4,
   "metadata": {},
   "outputs": [
    {
     "data": {
      "text/plain": [
       "True"
      ]
     },
     "execution_count": 4,
     "metadata": {},
     "output_type": "execute_result"
    }
   ],
   "source": [
    "from bs4 import BeautifulSoup\n",
    "soup = BeautifulSoup(response.text, 'lxml')\n",
    "table = soup.find('div', 'results-map')\n",
    "bool(table)"
   ]
  },
  {
   "cell_type": "code",
   "execution_count": 5,
   "metadata": {},
   "outputs": [
    {
     "data": {
      "text/plain": [
       "2"
      ]
     },
     "execution_count": 5,
     "metadata": {},
     "output_type": "execute_result"
    }
   ],
   "source": [
    "tables = table.find_all('table')\n",
    "len(tables)"
   ]
  },
  {
   "cell_type": "code",
   "execution_count": 8,
   "metadata": {},
   "outputs": [
    {
     "data": {
      "text/plain": [
       "'ATL, CHI, CLB, COL, DAL, DC, HOU, LA, MIN, MTL, NE, NY, NYC, ORL, PHI, POR, RSL, SEA, SJ, SKC, TOR, VAN'"
      ]
     },
     "execution_count": 8,
     "metadata": {},
     "output_type": "execute_result"
    }
   ],
   "source": [
    "teams = [line.text.strip() for line in tables[0].find_all('tr')[1:]]\n",
    "\", \".join(teams)"
   ]
  },
  {
   "cell_type": "code",
   "execution_count": 36,
   "metadata": {},
   "outputs": [
    {
     "data": {
      "text/plain": [
       "[['Sunday, March 5', 'vs. NY Red Bulls', '1-2'],\n",
       " ['Sunday, March 12', 'at Minnesota', '1-6'],\n",
       " ['Saturday, March 18', 'vs. Chicago', '4-0'],\n",
       " ['Friday, March 31', 'at Seattle', '0-0'],\n",
       " ['Saturday, April 8', 'at Toronto FC', '2-2'],\n",
       " ['Saturday, April 15', 'at Montreal', '2-1'],\n",
       " ['Saturday, April 22', 'at Real Salt Lake', '1-3'],\n",
       " ['Sunday, April 30', 'vs. D.C. United', '1-3'],\n",
       " ['Sunday, May 7', 'at NYCFC', '3-1'],\n",
       " ['Sunday, May 14', 'at Portland', '1-1'],\n",
       " ['Saturday, May 20', 'vs. Houston', '4-1'],\n",
       " ['Sunday, May 28', 'vs. NYCFC', '3-1'],\n",
       " ['Saturday, June 3', 'at Vancouver', '3-1'],\n",
       " ['Saturday, June 10', 'at Chicago', '2-0'],\n",
       " ['Saturday, June 17', 'vs. Columbus', '3-1'],\n",
       " ['Wednesday, June 21', 'at D.C. United', '2-1'],\n",
       " ['Saturday, June 24', 'vs. Colorado', '1-0'],\n",
       " ['Saturday, July 1', 'at Columbus', '0-2'],\n",
       " ['Tuesday, July 4', 'vs. San Jose', '4-2'],\n",
       " ['Friday, July 21', 'at Orlando', '0-1'],\n",
       " ['Saturday, July 29', 'vs. Orlando', '1-1'],\n",
       " ['Sunday, August 6', 'at Sporting KC', '1-1'],\n",
       " ['Wednesday, August 23', 'at D.C. United', '1-0'],\n",
       " ['Saturday, August 26', 'at Philadelphia', '2-2'],\n",
       " ['Sunday, September 10', 'vs. FC Dallas', '3-0'],\n",
       " ['Wednesday, September 13', 'vs. New England', '7-0'],\n",
       " ['Saturday, September 16', 'vs. Orlando', '3-3'],\n",
       " ['Wednesday, September 20', 'vs. LA Galaxy', '4-0'],\n",
       " ['Sunday, September 24', 'vs. Montreal', '2-0'],\n",
       " ['Wednesday, September 27', 'vs. Philadelphia', '3-0'],\n",
       " ['Saturday, September 30', 'at New England', '0-0'],\n",
       " ['Tuesday, October 3', 'vs. Minnesota', '2-3']]"
      ]
     },
     "execution_count": 36,
     "metadata": {},
     "output_type": "execute_result"
    }
   ],
   "source": [
    "results = [[result.text.strip().split(\"\\n\") for result in line.find_all('div', 'result-map-tip-info')[:32]] for line in tables[1].find_all('tr')[1:]]\n",
    "results[0]"
   ]
  },
  {
   "cell_type": "code",
   "execution_count": 37,
   "metadata": {},
   "outputs": [
    {
     "data": {
      "text/plain": [
       "array(['Atlanta', 'Chicago', 'Colorado', 'Columbus', 'FC Dallas',\n",
       "       'D.C. United', 'Houston', 'LA Galaxy', 'Minnesota', 'Montreal',\n",
       "       'New England', 'NY Red Bulls', 'NYCFC', 'Orlando', 'Philadelphia',\n",
       "       'Portland', 'Real Salt Lake', 'Seattle', 'San Jose', 'Sporting KC',\n",
       "       'Toronto FC', 'Vancouver'], \n",
       "      dtype='<U14')"
      ]
     },
     "execution_count": 37,
     "metadata": {},
     "output_type": "execute_result"
    }
   ],
   "source": [
    "opponents = [\" \".join(item[1].split()[1:]) for result in results for item in result]\n",
    "opponents = np.unique(opponents)\n",
    "opponents[4], opponents[5] = opponents[5], opponents[4]\n",
    "opponents[10], opponents[11], opponents[12] = opponents[12], opponents[10], opponents[11]\n",
    "opponents[-5], opponents[-4] = opponents[-4], opponents[-5]\n",
    "opponents"
   ]
  },
  {
   "cell_type": "code",
   "execution_count": 38,
   "metadata": {},
   "outputs": [
    {
     "data": {
      "text/plain": [
       "{'Atlanta': 'ATL',\n",
       " 'Chicago': 'CHI',\n",
       " 'Colorado': 'CLB',\n",
       " 'Columbus': 'COL',\n",
       " 'D.C. United': 'DC',\n",
       " 'FC Dallas': 'DAL',\n",
       " 'Houston': 'HOU',\n",
       " 'LA Galaxy': 'LA',\n",
       " 'Minnesota': 'MIN',\n",
       " 'Montreal': 'MTL',\n",
       " 'NY Red Bulls': 'NY',\n",
       " 'NYCFC': 'NYC',\n",
       " 'New England': 'NE',\n",
       " 'Orlando': 'ORL',\n",
       " 'Philadelphia': 'PHI',\n",
       " 'Portland': 'POR',\n",
       " 'Real Salt Lake': 'RSL',\n",
       " 'San Jose': 'SJ',\n",
       " 'Seattle': 'SEA',\n",
       " 'Sporting KC': 'SKC',\n",
       " 'Toronto FC': 'TOR',\n",
       " 'Vancouver': 'VAN'}"
      ]
     },
     "execution_count": 38,
     "metadata": {},
     "output_type": "execute_result"
    }
   ],
   "source": [
    "mapping = list(zip(teams, opponents))\n",
    "mapping = {long: short for short, long in mapping}\n",
    "mapping"
   ]
  },
  {
   "cell_type": "code",
   "execution_count": 42,
   "metadata": {},
   "outputs": [
    {
     "data": {
      "text/plain": [
       "{'awayscore': 2,\n",
       " 'awayteam': 'NY',\n",
       " 'gamedate': 'Sunday, March 5',\n",
       " 'homescore': 1,\n",
       " 'hometeam': 'ATL'}"
      ]
     },
     "execution_count": 42,
     "metadata": {},
     "output_type": "execute_result"
    }
   ],
   "source": [
    "def parse_game(team, game):\n",
    "    opponent = mapping[\" \".join(game[1].split()[1:])]\n",
    "    home = 0 if game[1].split()[0].startswith(\"at\") else 1\n",
    "    date = game[0]\n",
    "    home_score, away_score = map(int, game[2].split(\"-\"))\n",
    "    \n",
    "    if home:\n",
    "        hometeam = team\n",
    "        awayteam = opponent\n",
    "    else:\n",
    "        hometeam = opponent\n",
    "        awayteam = team\n",
    "        \n",
    "    result = {\n",
    "        \"hometeam\": hometeam,\n",
    "        \"awayteam\": awayteam,\n",
    "        \"homescore\": home_score,\n",
    "        \"awayscore\": away_score,\n",
    "        \"gamedate\": date\n",
    "    }\n",
    "    \n",
    "    return result\n",
    "\n",
    "games = [parse_game(team, game) for team, games in zip(teams, results) for game in games]\n",
    "games[0]"
   ]
  },
  {
   "cell_type": "code",
   "execution_count": 52,
   "metadata": {},
   "outputs": [
    {
     "data": {
      "text/plain": [
       "{'ATL': 0,\n",
       " 'CHI': 1,\n",
       " 'CLB': 2,\n",
       " 'COL': 3,\n",
       " 'DAL': 4,\n",
       " 'DC': 5,\n",
       " 'HOU': 6,\n",
       " 'LA': 7,\n",
       " 'MIN': 8,\n",
       " 'MTL': 9,\n",
       " 'NE': 10,\n",
       " 'NY': 11,\n",
       " 'NYC': 12,\n",
       " 'ORL': 13,\n",
       " 'PHI': 14,\n",
       " 'POR': 15,\n",
       " 'RSL': 16,\n",
       " 'SEA': 17,\n",
       " 'SJ': 18,\n",
       " 'SKC': 19,\n",
       " 'TOR': 20,\n",
       " 'VAN': 21}"
      ]
     },
     "execution_count": 52,
     "metadata": {},
     "output_type": "execute_result"
    }
   ],
   "source": [
    "intmapping = {abbr : i for i, abbr in enumerate(sorted(mapping.values()))}\n",
    "intmapping"
   ]
  },
  {
   "cell_type": "code",
   "execution_count": 53,
   "metadata": {},
   "outputs": [
    {
     "data": {
      "text/html": [
       "<div>\n",
       "<style>\n",
       "    .dataframe thead tr:only-child th {\n",
       "        text-align: right;\n",
       "    }\n",
       "\n",
       "    .dataframe thead th {\n",
       "        text-align: left;\n",
       "    }\n",
       "\n",
       "    .dataframe tbody tr th {\n",
       "        vertical-align: top;\n",
       "    }\n",
       "</style>\n",
       "<table border=\"1\" class=\"dataframe\">\n",
       "  <thead>\n",
       "    <tr style=\"text-align: right;\">\n",
       "      <th></th>\n",
       "      <th>awayscore</th>\n",
       "      <th>awayteam</th>\n",
       "      <th>gamedate</th>\n",
       "      <th>homescore</th>\n",
       "      <th>hometeam</th>\n",
       "      <th>awayteamint</th>\n",
       "      <th>hometeamint</th>\n",
       "    </tr>\n",
       "  </thead>\n",
       "  <tbody>\n",
       "    <tr>\n",
       "      <th>0</th>\n",
       "      <td>2</td>\n",
       "      <td>NY</td>\n",
       "      <td>Sunday, March 5</td>\n",
       "      <td>1</td>\n",
       "      <td>ATL</td>\n",
       "      <td>11</td>\n",
       "      <td>0</td>\n",
       "    </tr>\n",
       "    <tr>\n",
       "      <th>1</th>\n",
       "      <td>6</td>\n",
       "      <td>ATL</td>\n",
       "      <td>Sunday, March 12</td>\n",
       "      <td>1</td>\n",
       "      <td>MIN</td>\n",
       "      <td>0</td>\n",
       "      <td>8</td>\n",
       "    </tr>\n",
       "    <tr>\n",
       "      <th>2</th>\n",
       "      <td>0</td>\n",
       "      <td>CHI</td>\n",
       "      <td>Saturday, March 18</td>\n",
       "      <td>4</td>\n",
       "      <td>ATL</td>\n",
       "      <td>1</td>\n",
       "      <td>0</td>\n",
       "    </tr>\n",
       "    <tr>\n",
       "      <th>3</th>\n",
       "      <td>0</td>\n",
       "      <td>ATL</td>\n",
       "      <td>Friday, March 31</td>\n",
       "      <td>0</td>\n",
       "      <td>SEA</td>\n",
       "      <td>0</td>\n",
       "      <td>17</td>\n",
       "    </tr>\n",
       "    <tr>\n",
       "      <th>4</th>\n",
       "      <td>2</td>\n",
       "      <td>ATL</td>\n",
       "      <td>Saturday, April 8</td>\n",
       "      <td>2</td>\n",
       "      <td>TOR</td>\n",
       "      <td>0</td>\n",
       "      <td>20</td>\n",
       "    </tr>\n",
       "  </tbody>\n",
       "</table>\n",
       "</div>"
      ],
      "text/plain": [
       "   awayscore awayteam            gamedate  homescore hometeam  awayteamint  \\\n",
       "0          2       NY     Sunday, March 5          1      ATL           11   \n",
       "1          6      ATL    Sunday, March 12          1      MIN            0   \n",
       "2          0      CHI  Saturday, March 18          4      ATL            1   \n",
       "3          0      ATL    Friday, March 31          0      SEA            0   \n",
       "4          2      ATL   Saturday, April 8          2      TOR            0   \n",
       "\n",
       "   hometeamint  \n",
       "0            0  \n",
       "1            8  \n",
       "2            0  \n",
       "3           17  \n",
       "4           20  "
      ]
     },
     "execution_count": 53,
     "metadata": {},
     "output_type": "execute_result"
    }
   ],
   "source": [
    "import pandas as pd\n",
    "df = pd.DataFrame(games)\n",
    "df[\"awayteamint\"] = df.awayteam.map(intmapping)\n",
    "df[\"hometeamint\"] = df.hometeam.map(intmapping)\n",
    "df.head()"
   ]
  },
  {
   "cell_type": "code",
   "execution_count": null,
   "metadata": {
    "collapsed": true
   },
   "outputs": [],
   "source": [
    "with pm.Model() as model:\n",
    "    offense = pm.Poisson(\"offense\", 2, shape = len(teams))\n",
    "    defense = pm.Poisson(\"defense\", 1, shape = len(teams))\n",
    "    home_adv = pm.Poisson(\"home_adv\", 1, shape = len(teams))\n",
    "    \n",
    "    home_teams = pm.Deterministic(\"home_teams\", )\n",
    "    away_teams = pm.Categorical(\"away_teams\", shape = len(games))\n",
    "    "
   ]
  }
 ],
 "metadata": {
  "kernelspec": {
   "display_name": "Python [conda root]",
   "language": "python",
   "name": "conda-root-py"
  },
  "language_info": {
   "codemirror_mode": {
    "name": "ipython",
    "version": 3
   },
   "file_extension": ".py",
   "mimetype": "text/x-python",
   "name": "python",
   "nbconvert_exporter": "python",
   "pygments_lexer": "ipython3",
   "version": "3.5.3"
  }
 },
 "nbformat": 4,
 "nbformat_minor": 2
}
